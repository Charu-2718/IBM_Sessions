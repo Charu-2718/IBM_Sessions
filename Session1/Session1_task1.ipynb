{
  "nbformat": 4,
  "nbformat_minor": 0,
  "metadata": {
    "colab": {
      "provenance": []
    },
    "kernelspec": {
      "name": "python3",
      "display_name": "Python 3"
    },
    "language_info": {
      "name": "python"
    }
  },
  "cells": [
    {
      "cell_type": "code",
      "execution_count": 2,
      "metadata": {
        "colab": {
          "base_uri": "https://localhost:8080/"
        },
        "id": "ZXjnLtTErLpw",
        "outputId": "9b23af66-4863-4d0f-848b-886ca079ae49"
      },
      "outputs": [
        {
          "output_type": "stream",
          "name": "stdout",
          "text": [
            "Epoch 1/10\n",
            "81/81 [==============================] - 2s 6ms/step - loss: 0.4291 - accuracy: 0.8291 - val_loss: 0.3624 - val_accuracy: 0.8649\n",
            "Epoch 2/10\n",
            "81/81 [==============================] - 0s 3ms/step - loss: 0.3169 - accuracy: 0.8750 - val_loss: 0.3255 - val_accuracy: 0.8758\n",
            "Epoch 3/10\n",
            "81/81 [==============================] - 0s 3ms/step - loss: 0.2839 - accuracy: 0.8940 - val_loss: 0.3207 - val_accuracy: 0.8804\n",
            "Epoch 4/10\n",
            "81/81 [==============================] - 0s 4ms/step - loss: 0.2722 - accuracy: 0.8990 - val_loss: 0.3136 - val_accuracy: 0.8820\n",
            "Epoch 5/10\n",
            "81/81 [==============================] - 0s 5ms/step - loss: 0.2633 - accuracy: 0.8994 - val_loss: 0.3161 - val_accuracy: 0.8866\n",
            "Epoch 6/10\n",
            "81/81 [==============================] - 0s 5ms/step - loss: 0.2581 - accuracy: 0.9014 - val_loss: 0.3161 - val_accuracy: 0.8898\n",
            "Epoch 7/10\n",
            "81/81 [==============================] - 0s 5ms/step - loss: 0.2531 - accuracy: 0.9025 - val_loss: 0.3163 - val_accuracy: 0.8882\n",
            "Epoch 8/10\n",
            "81/81 [==============================] - 0s 4ms/step - loss: 0.2483 - accuracy: 0.9064 - val_loss: 0.3159 - val_accuracy: 0.8929\n",
            "Epoch 9/10\n",
            "81/81 [==============================] - 0s 4ms/step - loss: 0.2440 - accuracy: 0.9080 - val_loss: 0.3190 - val_accuracy: 0.8866\n",
            "Epoch 10/10\n",
            "81/81 [==============================] - 0s 4ms/step - loss: 0.2430 - accuracy: 0.9138 - val_loss: 0.3237 - val_accuracy: 0.8804\n",
            "26/26 [==============================] - 0s 3ms/step\n",
            "Test Accuracy: 0.8981366459627329\n"
          ]
        }
      ],
      "source": [
        "import numpy as np\n",
        "import pandas as pd\n",
        "from sklearn.model_selection import train_test_split\n",
        "from sklearn.preprocessing import StandardScaler, LabelEncoder\n",
        "from sklearn.metrics import accuracy_score\n",
        "import tensorflow as tf\n",
        "from tensorflow.keras import layers, models\n",
        "\n",
        "# Load the healthcare-related dataset from CSV\n",
        "df = pd.read_csv('Breast_Cancer.csv')  # Replace 'your_dataset.csv' with the actual file path\n",
        "\n",
        "# Extract features and labels\n",
        "X = df.drop(['Status'], axis=1)  # Assuming 'Status' is the target variable\n",
        "y = df['Status']\n",
        "\n",
        "# Convert string labels to numeric values\n",
        "label_encoder = LabelEncoder()\n",
        "y = label_encoder.fit_transform(y)\n",
        "\n",
        "# Convert categorical columns to one-hot encoding (if needed)\n",
        "X = pd.get_dummies(X)\n",
        "\n",
        "# Split the dataset into training and testing sets\n",
        "X_train, X_test, y_train, y_test = train_test_split(X, y, test_size=0.2, random_state=42)\n",
        "\n",
        "# Standardize the features\n",
        "scaler = StandardScaler()\n",
        "X_train = scaler.fit_transform(X_train)\n",
        "X_test = scaler.transform(X_test)\n",
        "\n",
        "# Build a simple neural network\n",
        "model = models.Sequential([\n",
        "    layers.Dense(64, activation='relu', input_shape=(X_train.shape[1],)),\n",
        "    layers.Dense(32, activation='relu'),\n",
        "    layers.Dense(1, activation='sigmoid')\n",
        "])\n",
        "\n",
        "# Compile the model\n",
        "model.compile(optimizer='adam', loss='binary_crossentropy', metrics=['accuracy'])\n",
        "\n",
        "# Train the model\n",
        "model.fit(X_train, y_train, epochs=10, batch_size=32, validation_split=0.2)\n",
        "\n",
        "# Evaluate the model on the test set\n",
        "y_pred = (model.predict(X_test) > 0.5).astype(\"int32\")\n",
        "accuracy = accuracy_score(y_test, y_pred)\n",
        "print(f\"Test Accuracy: {accuracy}\")\n"
      ]
    }
  ]
}